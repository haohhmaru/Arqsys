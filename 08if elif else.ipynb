{
 "cells": [
  {
   "cell_type": "code",
   "execution_count": 2,
   "metadata": {},
   "outputs": [
    {
     "name": "stdout",
     "output_type": "stream",
     "text": [
      "E verdadeiro\n"
     ]
    }
   ],
   "source": [
    "if True:\n",
    "    print('E verdadeiro')"
   ]
  },
  {
   "cell_type": "code",
   "execution_count": 4,
   "metadata": {},
   "outputs": [
    {
     "name": "stdout",
     "output_type": "stream",
     "text": [
      "x é positivo\n"
     ]
    }
   ],
   "source": [
    "x =1\n",
    "if x > 0:\n",
    "    print('x é positivo')\n",
    "elif x == 0:\n",
    "        print('x é n')"
   ]
  },
  {
   "cell_type": "code",
   "execution_count": 5,
   "metadata": {},
   "outputs": [
    {
     "name": "stdout",
     "output_type": "stream",
     "text": [
      "x é negativo\n"
     ]
    }
   ],
   "source": [
    "x = -1\n",
    "if x > 0:\n",
    "    print('x é positivo')\n",
    "elif x == 0:\n",
    "    print('x é nulo')\n",
    "else:\n",
    "    print('x é negativo')"
   ]
  },
  {
   "cell_type": "code",
   "execution_count": 6,
   "metadata": {},
   "outputs": [
    {
     "name": "stdout",
     "output_type": "stream",
     "text": [
      "É verdadeiro\n",
      "Dentro do if\n",
      "fora do if\n"
     ]
    }
   ],
   "source": [
    "#identação\n",
    "if True:\n",
    "    print('É verdadeiro')\n",
    "    print('Dentro do if')\n",
    "print('fora do if')"
   ]
  },
  {
   "cell_type": "code",
   "execution_count": 9,
   "metadata": {},
   "outputs": [
    {
     "ename": "SyntaxError",
     "evalue": "invalid syntax (<ipython-input-9-58d5b075e48a>, line 7)",
     "output_type": "error",
     "traceback": [
      "\u001b[1;36m  File \u001b[1;32m\"<ipython-input-9-58d5b075e48a>\"\u001b[1;36m, line \u001b[1;32m7\u001b[0m\n\u001b[1;33m    else:\u001b[0m\n\u001b[1;37m       ^\u001b[0m\n\u001b[1;31mSyntaxError\u001b[0m\u001b[1;31m:\u001b[0m invalid syntax\n"
     ]
    }
   ],
   "source": [
    "x = -1\n",
    "if x > 0:\n",
    "    print('x é positivo')\n",
    "else:\n",
    "        if x == 0:\n",
    "            print('x é nulo')\n",
    "        else:\n",
    "                pass\n",
    "            print('x é negativo')"
   ]
  },
  {
   "cell_type": "code",
   "execution_count": null,
   "metadata": {},
   "outputs": [],
   "source": []
  },
  {
   "cell_type": "code",
   "execution_count": null,
   "metadata": {},
   "outputs": [],
   "source": []
  }
 ],
 "metadata": {
  "kernelspec": {
   "display_name": "Python 3",
   "language": "python",
   "name": "python3"
  },
  "language_info": {
   "codemirror_mode": {
    "name": "ipython",
    "version": 3
   },
   "file_extension": ".py",
   "mimetype": "text/x-python",
   "name": "python",
   "nbconvert_exporter": "python",
   "pygments_lexer": "ipython3",
   "version": "3.6.4"
  }
 },
 "nbformat": 4,
 "nbformat_minor": 2
}
