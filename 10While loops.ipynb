{
 "cells": [
  {
   "cell_type": "code",
   "execution_count": 3,
   "metadata": {},
   "outputs": [
    {
     "name": "stdout",
     "output_type": "stream",
     "text": [
      "o valor de x é 0\n",
      "x ainda é menor que 10\n",
      "o valor de x é 1\n",
      "x ainda é menor que 10\n",
      "o valor de x é 2\n",
      "x ainda é menor que 10\n",
      "o valor de x é 3\n",
      "x ainda é menor que 10\n",
      "o valor de x é 4\n",
      "x ainda é menor que 10\n",
      "o valor de x é 5\n",
      "x ainda é menor que 10\n",
      "o valor de x é 6\n",
      "x ainda é menor que 10\n",
      "o valor de x é 7\n",
      "x ainda é menor que 10\n",
      "o valor de x é 8\n",
      "x ainda é menor que 10\n",
      "o valor de x é 9\n",
      "x ainda é menor que 10\n",
      "Terminou!\n"
     ]
    }
   ],
   "source": [
    "x  = 0\n",
    "\n",
    "while x < 10:\n",
    "    print(f'o valor de x é {x}')\n",
    "    print('x ainda é menor que 10')\n",
    "    x+=1\n",
    "else:\n",
    "        print('Terminou!')"
   ]
  },
  {
   "cell_type": "code",
   "execution_count": 6,
   "metadata": {},
   "outputs": [
    {
     "name": "stdout",
     "output_type": "stream",
     "text": [
      "0 Continuando....\n",
      "1 Continuando....\n",
      "2 Continuando....\n",
      "3 Continuando....\n",
      "4 Continuando....\n",
      "5 Continuando....\n",
      "6 Continuando....\n",
      "7 Continuando....\n",
      "8 Continuando....\n",
      "9 Continuando....\n",
      "10 Continuando....\n",
      "11 saindo ....\n"
     ]
    }
   ],
   "source": [
    "x = 0\n",
    "while True:\n",
    "    if x >10:\n",
    "        print(f'{x} saindo ....')\n",
    "        break;\n",
    "    else:\n",
    "            print(f'{x} Continuando....')\n",
    "            x+=1"
   ]
  },
  {
   "cell_type": "code",
   "execution_count": null,
   "metadata": {},
   "outputs": [],
   "source": [
    "()"
   ]
  }
 ],
 "metadata": {
  "kernelspec": {
   "display_name": "Python 3",
   "language": "python",
   "name": "python3"
  },
  "language_info": {
   "codemirror_mode": {
    "name": "ipython",
    "version": 3
   },
   "file_extension": ".py",
   "mimetype": "text/x-python",
   "name": "python",
   "nbconvert_exporter": "python",
   "pygments_lexer": "ipython3",
   "version": "3.6.4"
  }
 },
 "nbformat": 4,
 "nbformat_minor": 2
}
