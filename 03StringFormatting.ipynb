{
 "cells": [
  {
   "cell_type": "code",
   "execution_count": 1,
   "metadata": {
    "collapsed": false
   },
   "outputs": [
    {
     "name": "stdout",
     "output_type": "stream",
     "text": [
      "Vou Inserir Alguma coisa aqui\n"
     ]
    }
   ],
   "source": [
    "print(\"Vou Inserir %s aqui\" %\"Alguma coisa\")"
   ]
  },
  {
   "cell_type": "code",
   "execution_count": 5,
   "metadata": {
    "collapsed": false
   },
   "outputs": [
    {
     "name": "stdout",
     "output_type": "stream",
     "text": [
      "('Vou Inserir %s aqui e %s e s%Alguma coisa', 'outra coisa', 'mais uma coisa')\n"
     ]
    }
   ],
   "source": [
    "print((\"Vou Inserir %s aqui e %s e s%\" \"Alguma coisa\", 'outra coisa','mais uma coisa'))"
   ]
  },
  {
   "cell_type": "code",
   "execution_count": 6,
   "metadata": {
    "collapsed": false
   },
   "outputs": [
    {
     "name": "stdout",
     "output_type": "stream",
     "text": [
      "Vou inserir Alguma coisa aqui e outra coisa e mais uma coisa.\n"
     ]
    }
   ],
   "source": [
    "x = 'Alguma coisa'\n",
    "y = 'outra coisa'\n",
    "z = 'mais uma coisa'\n",
    "print (\"Vou inserir %s aqui e %s e %s.\" %(x,y,z))"
   ]
  },
  {
   "cell_type": "code",
   "execution_count": 7,
   "metadata": {
    "collapsed": false
   },
   "outputs": [
    {
     "name": "stdout",
     "output_type": "stream",
     "text": [
      "Numero decimal: 13.14\n"
     ]
    }
   ],
   "source": [
    "print(\"Numero decimal: %5.2f\" %13.144)"
   ]
  },
  {
   "cell_type": "code",
   "execution_count": 8,
   "metadata": {
    "collapsed": false
   },
   "outputs": [
    {
     "name": "stdout",
     "output_type": "stream",
     "text": [
      "Numero decimal: 13\n"
     ]
    }
   ],
   "source": [
    "print(\"Numero decimal: %1.0f\" %13.144)"
   ]
  },
  {
   "cell_type": "code",
   "execution_count": 9,
   "metadata": {
    "collapsed": false
   },
   "outputs": [
    {
     "name": "stdout",
     "output_type": "stream",
     "text": [
      "Numero decimal:      13.14\n"
     ]
    }
   ],
   "source": [
    "print(\"Numero decimal: %10.2f\" %13.144)"
   ]
  },
  {
   "cell_type": "code",
   "execution_count": 11,
   "metadata": {
    "collapsed": false
   },
   "outputs": [
    {
     "name": "stdout",
     "output_type": "stream",
     "text": [
      "primeiro: %10s\n",
      "segundos:%10.2f\n",
      "terceiro:%10d %('olá', 3.14, 500)\n"
     ]
    }
   ],
   "source": [
    "print(\"primeiro: %10s\\nsegundos:%10.2f\\nterceiro:%10d %('olá', 3.14, 500)\")"
   ]
  },
  {
   "cell_type": "code",
   "execution_count": 13,
   "metadata": {
    "collapsed": false
   },
   "outputs": [
    {
     "name": "stdout",
     "output_type": "stream",
     "text": [
      "primeiro: ola\n",
      "segundos: 3.1415\n",
      "terceiro: 500\n"
     ]
    }
   ],
   "source": [
    "print(\"primeiro: \"+ \"ola\" + \"\\nsegundos: \"+str(3.1415)+\"\\nterceiro: \"+str(500))"
   ]
  },
  {
   "cell_type": "code",
   "execution_count": 17,
   "metadata": {
    "collapsed": false
   },
   "outputs": [
    {
     "name": "stdout",
     "output_type": "stream",
     "text": [
      "Vou Inserir Alguma coisa aqui\n"
     ]
    }
   ],
   "source": [
    "print(\"Vou Inserir {} aqui\".format(\"Alguma coisa\"))"
   ]
  },
  {
   "cell_type": "code",
   "execution_count": 18,
   "metadata": {
    "collapsed": false
   },
   "outputs": [
    {
     "name": "stdout",
     "output_type": "stream",
     "text": [
      "Vou Inserir Alguma coisa aqui\n"
     ]
    }
   ],
   "source": [
    "print(\"Vou Inserir {} aqui\".format(\"Alguma coisa\"))"
   ]
  },
  {
   "cell_type": "code",
   "execution_count": 19,
   "metadata": {
    "collapsed": false
   },
   "outputs": [
    {
     "name": "stdout",
     "output_type": "stream",
     "text": [
      "fruta    | Quantidade\n",
      "maca     |       3.0\n",
      "Laranja  |      10.0\n"
     ]
    }
   ],
   "source": [
    "print('{0:8} | {1:9}'.format('fruta','Quantidade'))\n",
    "print('{0:8} | {1:9}'.format('maca',3.))\n",
    "print('{0:8} | {1:9}'.format('Laranja',10.))"
   ]
  },
  {
   "cell_type": "code",
   "execution_count": 20,
   "metadata": {
    "collapsed": false
   },
   "outputs": [
    {
     "name": "stdout",
     "output_type": "stream",
     "text": [
      "Left     |  Center  |    Right\n"
     ]
    }
   ],
   "source": [
    "print('{0:<8} | {1:^8} | {2:>8}'.format('Left', 'Center', 'Right'))"
   ]
  },
  {
   "cell_type": "code",
   "execution_count": 21,
   "metadata": {
    "collapsed": false
   },
   "outputs": [
    {
     "name": "stdout",
     "output_type": "stream",
     "text": [
      "Left     |  Center  |    Right\n",
      "10       |    11    |       12\n"
     ]
    }
   ],
   "source": [
    "print('{0:<8} | {1:^8} | {2:>8}'.format('Left', 'Center', 'Right'))\n",
    "print('{0:<8} | {1:^8} | {2:>8}'.format(10, 11, 12))"
   ]
  },
  {
   "cell_type": "code",
   "execution_count": 22,
   "metadata": {
    "collapsed": false
   },
   "outputs": [
    {
     "name": "stdout",
     "output_type": "stream",
     "text": [
      "Left==== |  Center  | ...Right\n",
      "10====== |    11    | ......12\n"
     ]
    }
   ],
   "source": [
    "print('{0:=<8} | {1:^8} | {2:.>8}'.format('Left', 'Center', 'Right'))\n",
    "print('{0:=<8} | {1:^8} | {2:.>8}'.format(10, 11, 12))"
   ]
  },
  {
   "cell_type": "code",
   "execution_count": null,
   "metadata": {
    "collapsed": true
   },
   "outputs": [],
   "source": []
  }
 ],
 "metadata": {
  "kernelspec": {
   "display_name": "Python 3",
   "language": "python",
   "name": "python3"
  },
  "language_info": {
   "codemirror_mode": {
    "name": "ipython",
    "version": 3
   },
   "file_extension": ".py",
   "mimetype": "text/x-python",
   "name": "python",
   "nbconvert_exporter": "python",
   "pygments_lexer": "ipython3",
   "version": "3.6.0"
  }
 },
 "nbformat": 4,
 "nbformat_minor": 2
}
